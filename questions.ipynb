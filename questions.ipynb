{
 "cells": [
  {
   "cell_type": "code",
   "execution_count": 1,
   "metadata": {},
   "outputs": [],
   "source": [
    "from pymongo import MongoClient"
   ]
  },
  {
   "cell_type": "code",
   "execution_count": 2,
   "metadata": {},
   "outputs": [],
   "source": [
    "# Connexion avec Mongo en local\n",
    "client = MongoClient(\"mongodb://localhost:27017\")\n",
    "db = client[\"Scraping\"]\n",
    "\n",
    "film = db['Film']\n",
    "serie = db['Serie']"
   ]
  },
  {
   "attachments": {},
   "cell_type": "markdown",
   "metadata": {},
   "source": [
    "## Question n°1\n",
    "Quel est le film le plus long ?"
   ]
  },
  {
   "cell_type": "code",
   "execution_count": 3,
   "metadata": {},
   "outputs": [
    {
     "data": {
      "text/plain": [
       "{'_id': ObjectId('639c813a75d1b93323306b5e'),\n",
       " 'title': 'Gone with the Wind',\n",
       " 'title_original': 'Gone with the Wind',\n",
       " 'score': 8.2,\n",
       " 'genre': ['Drama', 'Romance', 'War'],\n",
       " 'date': '1939',\n",
       " 'duree': 238,\n",
       " 'description': 'The manipulative daughter of a Georgia plantation owner conducts a turbulent romance with a roguish profiteer during the American Civil War and Reconstruction periods.',\n",
       " 'acteurs': ['Clark Gable',\n",
       "  'Vivien Leigh',\n",
       "  'Thomas Mitchell',\n",
       "  \"Barbara O'Neil\",\n",
       "  'Evelyn Keyes',\n",
       "  'Ann Rutherford',\n",
       "  'George Reeves',\n",
       "  'Fred Crane',\n",
       "  'Hattie McDaniel',\n",
       "  'Oscar Polk',\n",
       "  'Butterfly McQueen',\n",
       "  'Victor Jory',\n",
       "  'Everett Brown',\n",
       "  'Howard Hickman',\n",
       "  'Alicia Rhett',\n",
       "  'Leslie Howard',\n",
       "  'Olivia de Havilland',\n",
       "  'Rand Brooks'],\n",
       " 'public': 'Passed',\n",
       " 'pays': 'United States',\n",
       " 'img_url': 'https://m.media-amazon.com/images/M/MV5BYjUyZWZkM2UtMzYxYy00ZmQ3LWFmZTQtOGE2YjBkNjA3YWZlXkEyXkFqcGdeQXVyNzkwMjQ5NzM@._V1_QL75_UX190_CR0,5,190,281_.jpg',\n",
       " 'imdb_url': 'https://www.imdb.com/title/tt0031381/?pf_rd_m=A2FGELUUNOQJNL&pf_rd_p=1a264172-ae11-42e4-8ef7-7fed1973bb8f&pf_rd_r=E7TD1Z10AFG29YCN9WWM&pf_rd_s=center-1&pf_rd_t=15506&pf_rd_i=top&ref_=chttp_tt_158'}"
      ]
     },
     "execution_count": 3,
     "metadata": {},
     "output_type": "execute_result"
    }
   ],
   "source": [
    "film.find().sort(\"duree\",-1)[0]\n"
   ]
  },
  {
   "attachments": {},
   "cell_type": "markdown",
   "metadata": {},
   "source": [
    "## Question n°2\n",
    "Quels sont les 5 films les mieux notés ?"
   ]
  },
  {
   "cell_type": "code",
   "execution_count": 4,
   "metadata": {},
   "outputs": [
    {
     "name": "stdout",
     "output_type": "stream",
     "text": [
      "{'_id': ObjectId('639c812b75d1b93323306b03'), 'title': 'The Shawshank Redemption', 'title_original': 'The Shawshank Redemption', 'score': 9.3, 'genre': ['Drama'], 'date': '1994', 'duree': 142, 'description': 'Two imprisoned men bond over a number of years, finding solace and eventual redemption through acts of common decency.', 'acteurs': ['Tim Robbins', 'Morgan Freeman', 'Bob Gunton', 'William Sadler', 'Clancy Brown', 'Gil Bellows', 'Mark Rolston', 'James Whitmore', 'Jeffrey DeMunn', 'Larry Brandenburg', 'Neil Giuntoli', 'Brian Libby', 'David Proval', 'Joseph Ragno', 'Jude Ciccolella', 'Paul McCrane', 'Renee Blaine', 'Scott Mann'], 'public': 'R', 'pays': 'United States', 'img_url': 'https://m.media-amazon.com/images/M/MV5BMDFkYTc0MGEtZmNhMC00ZDIzLWFmNTEtODM1ZmRlYWMwMWFmXkEyXkFqcGdeQXVyMTMxODk2OTU@._V1_QL75_UX190_CR0,0,190,281_.jpg', 'imdb_url': 'https://www.imdb.com/title/tt0111161/?pf_rd_m=A2FGELUUNOQJNL&pf_rd_p=1a264172-ae11-42e4-8ef7-7fed1973bb8f&pf_rd_r=E7TD1Z10AFG29YCN9WWM&pf_rd_s=center-1&pf_rd_t=15506&pf_rd_i=top&ref_=chttp_tt_1'} {'_id': ObjectId('639c815475d1b93323306bf4'), 'title': 'The Godfather', 'title_original': 'The Godfather', 'score': 9.2, 'genre': ['Crime', 'Drama'], 'date': '1972', 'duree': 175, 'description': 'The aging patriarch of an organized crime dynasty in postwar New York City transfers control of his clandestine empire to his reluctant youngest son.', 'acteurs': ['Marlon Brando', 'Al Pacino', 'James Caan', 'Diane Keaton', 'Richard S. Castellano', 'Robert Duvall', 'Sterling Hayden', 'John Marley', 'Richard Conte', 'Al Lettieri', 'Abe Vigoda', 'Talia Shire', 'Gianni Russo', 'John Cazale', 'Rudy Bond', 'Al Martino', 'Morgana King', 'Lenny Montana'], 'public': 'R', 'pays': 'United States', 'img_url': 'https://m.media-amazon.com/images/M/MV5BM2MyNjYxNmUtYTAwNi00MTYxLWJmNWYtYzZlODY3ZTk3OTFlXkEyXkFqcGdeQXVyNzkwMjQ5NzM@._V1_QL75_UY281_CR4,0,190,281_.jpg', 'imdb_url': 'https://www.imdb.com/title/tt0068646/?pf_rd_m=A2FGELUUNOQJNL&pf_rd_p=1a264172-ae11-42e4-8ef7-7fed1973bb8f&pf_rd_r=E7TD1Z10AFG29YCN9WWM&pf_rd_s=center-1&pf_rd_t=15506&pf_rd_i=top&ref_=chttp_tt_2'} {'_id': ObjectId('639c811801506d8c869bc611'), 'title': 'The Godfather', 'title_original': 'The Godfather', 'score': 9.2, 'genre': ['Crime', 'Drama'], 'date': '1972', 'duree': 175, 'description': 'The aging patriarch of an organized crime dynasty in postwar New York City transfers control of his clandestine empire to his reluctant youngest son.', 'acteurs': ['Marlon Brando', 'Al Pacino', 'James Caan', 'Diane Keaton', 'Richard S. Castellano', 'Robert Duvall', 'Sterling Hayden', 'John Marley', 'Richard Conte', 'Al Lettieri', 'Abe Vigoda', 'Talia Shire', 'Gianni Russo', 'John Cazale', 'Rudy Bond', 'Al Martino', 'Morgana King', 'Lenny Montana'], 'public': 'R', 'pays': 'United States', 'img_url': 'https://m.media-amazon.com/images/M/MV5BM2MyNjYxNmUtYTAwNi00MTYxLWJmNWYtYzZlODY3ZTk3OTFlXkEyXkFqcGdeQXVyNzkwMjQ5NzM@._V1_QL75_UY281_CR4,0,190,281_.jpg', 'imdb_url': 'https://www.imdb.com/title/tt0068646/?pf_rd_m=A2FGELUUNOQJNL&pf_rd_p=1a264172-ae11-42e4-8ef7-7fed1973bb8f&pf_rd_r=XCNT5MRF80Z9EAR2JPCV&pf_rd_s=center-1&pf_rd_t=15506&pf_rd_i=top&ref_=chttp_tt_2'} {'_id': ObjectId('639c811801506d8c869bc60d'), 'title': 'The Godfather Part II', 'title_original': 'The Godfather Part II', 'score': 9.0, 'genre': ['Crime', 'Drama'], 'date': '1974', 'duree': 202, 'description': 'The early life and career of Vito Corleone in 1920s New York City is portrayed, while his son, Michael, expands and tightens his grip on the family crime syndicate.', 'acteurs': ['Al Pacino', 'Robert De Niro', 'Robert Duvall', 'Diane Keaton', 'John Cazale', 'Talia Shire', 'Lee Strasberg', 'Michael V. Gazzo', 'G.D. Spradlin', 'Richard Bright', 'Gastone Moschin', 'Tom Rosqui', 'Bruno Kirby', 'Frank Sivero', 'Francesca De Sapio', 'Morgana King', 'Marianna Hill', 'Leopoldo Trieste'], 'public': 'R', 'pays': 'United States', 'img_url': 'https://m.media-amazon.com/images/M/MV5BMWMwMGQzZTItY2JlNC00OWZiLWIyMDctNDk2ZDQ2YjRjMWQ0XkEyXkFqcGdeQXVyNzkwMjQ5NzM@._V1_QL75_UY281_CR4,0,190,281_.jpg', 'imdb_url': 'https://www.imdb.com/title/tt0071562/?pf_rd_m=A2FGELUUNOQJNL&pf_rd_p=1a264172-ae11-42e4-8ef7-7fed1973bb8f&pf_rd_r=XCNT5MRF80Z9EAR2JPCV&pf_rd_s=center-1&pf_rd_t=15506&pf_rd_i=top&ref_=chttp_tt_4'} {'_id': ObjectId('639c811801506d8c869bc610'), 'title': 'The Lord of the Rings: The Return of the King', 'title_original': 'The Lord of the Rings: The Return of the King', 'score': 9.0, 'genre': ['Action', 'Adventure', 'Drama'], 'date': '2003', 'duree': 201, 'description': \"Gandalf and Aragorn lead the World of Men against Sauron's army to draw his gaze from Frodo and Sam as they approach Mount Doom with the One Ring.\", 'acteurs': ['Elijah Wood', 'Viggo Mortensen', 'Ian McKellen', 'Orlando Bloom', 'Noel Appleby', 'Ali Astin', 'Sean Astin', 'David Aston', 'John Bach', 'Sean Bean', 'Cate Blanchett', 'Billy Boyd', 'Sadwyn Brophy', 'Alistair Browning', 'Marton Csokas', 'Richard Edge', 'Jason Fitch', 'Bernard Hill'], 'public': 'PG-13', 'pays': 'New Zealand', 'img_url': 'https://m.media-amazon.com/images/M/MV5BNzA5ZDNlZWMtM2NhNS00NDJjLTk4NDItYTRmY2EwMWZlMTY3XkEyXkFqcGdeQXVyNzkwMjQ5NzM@._V1_QL75_UX190_CR0,0,190,281_.jpg', 'imdb_url': 'https://www.imdb.com/title/tt0167260/?pf_rd_m=A2FGELUUNOQJNL&pf_rd_p=1a264172-ae11-42e4-8ef7-7fed1973bb8f&pf_rd_r=XCNT5MRF80Z9EAR2JPCV&pf_rd_s=center-1&pf_rd_t=15506&pf_rd_i=top&ref_=chttp_tt_7'}\n"
     ]
    }
   ],
   "source": [
    "top5 = film.find().sort(\"score\",-1).limit(5)\n",
    "print(*top5)"
   ]
  },
  {
   "attachments": {},
   "cell_type": "markdown",
   "metadata": {},
   "source": [
    "## Question n°3\n",
    "Dans combien de films a joué Morgan Freeman ? Tom Cruise ?"
   ]
  },
  {
   "cell_type": "code",
   "execution_count": 5,
   "metadata": {},
   "outputs": [
    {
     "data": {
      "text/plain": [
       "1"
      ]
     },
     "execution_count": 5,
     "metadata": {},
     "output_type": "execute_result"
    }
   ],
   "source": [
    "film.count_documents({\"acteurs\" :\"Morgan Freeman\"})\n",
    "film.count_documents({\"acteurs\" :\"Tom Cruise\"})"
   ]
  },
  {
   "attachments": {},
   "cell_type": "markdown",
   "metadata": {},
   "source": [
    "## Question n°4\n",
    "Quels sont les 3 meilleurs films d’horreur ? Dramatique ? Comique ?"
   ]
  },
  {
   "cell_type": "code",
   "execution_count": 6,
   "metadata": {},
   "outputs": [
    {
     "name": "stdout",
     "output_type": "stream",
     "text": [
      "{'_id': ObjectId('639c812b75d1b93323306afd'), 'title': 'Psycho', 'title_original': 'Psycho', 'score': 8.5, 'genre': ['Horror', 'Mystery', 'Thriller'], 'date': '1960', 'duree': 109, 'description': \"A Phoenix secretary embezzles $40,000 from her employer's client, goes on the run and checks into a remote motel run by a young man under the domination of his mother.\", 'acteurs': ['Anthony Perkins', 'Janet Leigh', 'Vera Miles', 'John Gavin', 'Martin Balsam', 'John McIntire', 'Simon Oakland', 'Frank Albertson', 'Patricia Hitchcock', 'Vaughn Taylor', 'Lurene Tuttle', 'John Anderson', 'Mort Mills', 'Fletcher Allen', 'Walter Bacon', 'Prudence Beers', 'Kit Carson', 'Francis De Sales'], 'public': 'R', 'pays': 'United States', 'img_url': 'https://m.media-amazon.com/images/M/MV5BNTQwNDM1YzItNDAxZC00NWY2LTk0M2UtNDIwNWI5OGUyNWUxXkEyXkFqcGdeQXVyNzkwMjQ5NzM@._V1_QL75_UX190_CR0,0,190,281_.jpg', 'imdb_url': 'https://www.imdb.com/title/tt0054215/?pf_rd_m=A2FGELUUNOQJNL&pf_rd_p=1a264172-ae11-42e4-8ef7-7fed1973bb8f&pf_rd_r=E7TD1Z10AFG29YCN9WWM&pf_rd_s=center-1&pf_rd_t=15506&pf_rd_i=top&ref_=chttp_tt_32'} {'_id': ObjectId('639c811301506d8c869bc5e8'), 'title': 'Alien', 'title_original': 'Alien', 'score': 8.5, 'genre': ['Horror', 'Sci-Fi'], 'date': '1979', 'duree': 117, 'description': 'The crew of a commercial spacecraft encounter a deadly lifeform after investigating an unknown transmission.', 'acteurs': ['Sigourney Weaver', 'Tom Skerritt', 'John Hurt', 'Veronica Cartwright', 'Harry Dean Stanton', 'Ian Holm', 'Yaphet Kotto', 'Bolaji Badejo', 'Helen Horton', 'Eddie Powell'], 'public': 'R', 'pays': 'United Kingdom', 'img_url': 'https://m.media-amazon.com/images/M/MV5BOGQzZTBjMjQtOTVmMS00NGE5LWEyYmMtOGQ1ZGZjNmRkYjFhXkEyXkFqcGdeQXVyMjUzOTY1NTc@._V1_QL75_UX190_CR0,3,190,281_.jpg', 'imdb_url': 'https://www.imdb.com/title/tt0078748/?pf_rd_m=A2FGELUUNOQJNL&pf_rd_p=1a264172-ae11-42e4-8ef7-7fed1973bb8f&pf_rd_r=XCNT5MRF80Z9EAR2JPCV&pf_rd_s=center-1&pf_rd_t=15506&pf_rd_i=top&ref_=chttp_tt_51'} {'_id': ObjectId('639c811501506d8c869bc5fa'), 'title': 'Psycho', 'title_original': 'Psycho', 'score': 8.5, 'genre': ['Horror', 'Mystery', 'Thriller'], 'date': '1960', 'duree': 109, 'description': \"A Phoenix secretary embezzles $40,000 from her employer's client, goes on the run and checks into a remote motel run by a young man under the domination of his mother.\", 'acteurs': ['Anthony Perkins', 'Janet Leigh', 'Vera Miles', 'John Gavin', 'Martin Balsam', 'John McIntire', 'Simon Oakland', 'Frank Albertson', 'Patricia Hitchcock', 'Vaughn Taylor', 'Lurene Tuttle', 'John Anderson', 'Mort Mills', 'Fletcher Allen', 'Walter Bacon', 'Prudence Beers', 'Kit Carson', 'Francis De Sales'], 'public': 'R', 'pays': 'United States', 'img_url': 'https://m.media-amazon.com/images/M/MV5BNTQwNDM1YzItNDAxZC00NWY2LTk0M2UtNDIwNWI5OGUyNWUxXkEyXkFqcGdeQXVyNzkwMjQ5NzM@._V1_QL75_UX190_CR0,0,190,281_.jpg', 'imdb_url': 'https://www.imdb.com/title/tt0054215/?pf_rd_m=A2FGELUUNOQJNL&pf_rd_p=1a264172-ae11-42e4-8ef7-7fed1973bb8f&pf_rd_r=XCNT5MRF80Z9EAR2JPCV&pf_rd_s=center-1&pf_rd_t=15506&pf_rd_i=top&ref_=chttp_tt_32'}\n",
      "{'_id': ObjectId('639c812b75d1b93323306b03'), 'title': 'The Shawshank Redemption', 'title_original': 'The Shawshank Redemption', 'score': 9.3, 'genre': ['Drama'], 'date': '1994', 'duree': 142, 'description': 'Two imprisoned men bond over a number of years, finding solace and eventual redemption through acts of common decency.', 'acteurs': ['Tim Robbins', 'Morgan Freeman', 'Bob Gunton', 'William Sadler', 'Clancy Brown', 'Gil Bellows', 'Mark Rolston', 'James Whitmore', 'Jeffrey DeMunn', 'Larry Brandenburg', 'Neil Giuntoli', 'Brian Libby', 'David Proval', 'Joseph Ragno', 'Jude Ciccolella', 'Paul McCrane', 'Renee Blaine', 'Scott Mann'], 'public': 'R', 'pays': 'United States', 'img_url': 'https://m.media-amazon.com/images/M/MV5BMDFkYTc0MGEtZmNhMC00ZDIzLWFmNTEtODM1ZmRlYWMwMWFmXkEyXkFqcGdeQXVyMTMxODk2OTU@._V1_QL75_UX190_CR0,0,190,281_.jpg', 'imdb_url': 'https://www.imdb.com/title/tt0111161/?pf_rd_m=A2FGELUUNOQJNL&pf_rd_p=1a264172-ae11-42e4-8ef7-7fed1973bb8f&pf_rd_r=E7TD1Z10AFG29YCN9WWM&pf_rd_s=center-1&pf_rd_t=15506&pf_rd_i=top&ref_=chttp_tt_1'} {'_id': ObjectId('639c815475d1b93323306bf4'), 'title': 'The Godfather', 'title_original': 'The Godfather', 'score': 9.2, 'genre': ['Crime', 'Drama'], 'date': '1972', 'duree': 175, 'description': 'The aging patriarch of an organized crime dynasty in postwar New York City transfers control of his clandestine empire to his reluctant youngest son.', 'acteurs': ['Marlon Brando', 'Al Pacino', 'James Caan', 'Diane Keaton', 'Richard S. Castellano', 'Robert Duvall', 'Sterling Hayden', 'John Marley', 'Richard Conte', 'Al Lettieri', 'Abe Vigoda', 'Talia Shire', 'Gianni Russo', 'John Cazale', 'Rudy Bond', 'Al Martino', 'Morgana King', 'Lenny Montana'], 'public': 'R', 'pays': 'United States', 'img_url': 'https://m.media-amazon.com/images/M/MV5BM2MyNjYxNmUtYTAwNi00MTYxLWJmNWYtYzZlODY3ZTk3OTFlXkEyXkFqcGdeQXVyNzkwMjQ5NzM@._V1_QL75_UY281_CR4,0,190,281_.jpg', 'imdb_url': 'https://www.imdb.com/title/tt0068646/?pf_rd_m=A2FGELUUNOQJNL&pf_rd_p=1a264172-ae11-42e4-8ef7-7fed1973bb8f&pf_rd_r=E7TD1Z10AFG29YCN9WWM&pf_rd_s=center-1&pf_rd_t=15506&pf_rd_i=top&ref_=chttp_tt_2'} {'_id': ObjectId('639c811801506d8c869bc611'), 'title': 'The Godfather', 'title_original': 'The Godfather', 'score': 9.2, 'genre': ['Crime', 'Drama'], 'date': '1972', 'duree': 175, 'description': 'The aging patriarch of an organized crime dynasty in postwar New York City transfers control of his clandestine empire to his reluctant youngest son.', 'acteurs': ['Marlon Brando', 'Al Pacino', 'James Caan', 'Diane Keaton', 'Richard S. Castellano', 'Robert Duvall', 'Sterling Hayden', 'John Marley', 'Richard Conte', 'Al Lettieri', 'Abe Vigoda', 'Talia Shire', 'Gianni Russo', 'John Cazale', 'Rudy Bond', 'Al Martino', 'Morgana King', 'Lenny Montana'], 'public': 'R', 'pays': 'United States', 'img_url': 'https://m.media-amazon.com/images/M/MV5BM2MyNjYxNmUtYTAwNi00MTYxLWJmNWYtYzZlODY3ZTk3OTFlXkEyXkFqcGdeQXVyNzkwMjQ5NzM@._V1_QL75_UY281_CR4,0,190,281_.jpg', 'imdb_url': 'https://www.imdb.com/title/tt0068646/?pf_rd_m=A2FGELUUNOQJNL&pf_rd_p=1a264172-ae11-42e4-8ef7-7fed1973bb8f&pf_rd_r=XCNT5MRF80Z9EAR2JPCV&pf_rd_s=center-1&pf_rd_t=15506&pf_rd_i=top&ref_=chttp_tt_2'}\n",
      "{'_id': ObjectId('639c814f75d1b93323306be3'), 'title': 'Life Is Beautiful', 'title_original': 'La vita è bella', 'score': 8.6, 'genre': ['Comedy', 'Drama', 'Romance'], 'date': '1997', 'duree': 116, 'description': 'When an open-minded Jewish waiter and his son become victims of the Holocaust, he uses a perfect mixture of will, humor, and imagination to protect his son from the dangers around their camp...', 'acteurs': ['Roberto Benigni', 'Nicoletta Braschi', 'Giorgio Cantarini', 'Giustino Durano', 'Sergio Bini Bustric', 'Marisa Paredes', 'Horst Buchholz', 'Lidia Alfonsi', 'Giuliana Lojodice', 'Amerigo Fontani', 'Pietro De Silva', 'Francesco Guzzo', 'Raffaella Lebboroni', 'Claudio Alfonsi', 'Gil Baroni', 'Massimo Bianchi', 'Jürgen Bohn', 'Verena Buratti'], 'public': 'PG-13', 'pays': 'Italy', 'img_url': 'https://m.media-amazon.com/images/M/MV5BYmJmM2Q4NmMtYThmNC00ZjRlLWEyZmItZTIwOTBlZDQ3NTQ1XkEyXkFqcGdeQXVyMTQxNzMzNDI@._V1_QL75_UX190_CR0,1,190,281_.jpg', 'imdb_url': 'https://www.imdb.com/title/tt0118799/?pf_rd_m=A2FGELUUNOQJNL&pf_rd_p=1a264172-ae11-42e4-8ef7-7fed1973bb8f&pf_rd_r=E7TD1Z10AFG29YCN9WWM&pf_rd_s=center-1&pf_rd_t=15506&pf_rd_i=top&ref_=chttp_tt_25'} {'_id': ObjectId('639c811601506d8c869bc601'), 'title': 'Life Is Beautiful', 'title_original': 'La vita è bella', 'score': 8.6, 'genre': ['Comedy', 'Drama', 'Romance'], 'date': '1997', 'duree': 116, 'description': 'When an open-minded Jewish waiter and his son become victims of the Holocaust, he uses a perfect mixture of will, humor, and imagination to protect his son from the dangers around their camp...', 'acteurs': ['Roberto Benigni', 'Nicoletta Braschi', 'Giorgio Cantarini', 'Giustino Durano', 'Sergio Bini Bustric', 'Marisa Paredes', 'Horst Buchholz', 'Lidia Alfonsi', 'Giuliana Lojodice', 'Amerigo Fontani', 'Pietro De Silva', 'Francesco Guzzo', 'Raffaella Lebboroni', 'Claudio Alfonsi', 'Gil Baroni', 'Massimo Bianchi', 'Jürgen Bohn', 'Verena Buratti'], 'public': 'PG-13', 'pays': 'Italy', 'img_url': 'https://m.media-amazon.com/images/M/MV5BYmJmM2Q4NmMtYThmNC00ZjRlLWEyZmItZTIwOTBlZDQ3NTQ1XkEyXkFqcGdeQXVyMTQxNzMzNDI@._V1_QL75_UX190_CR0,1,190,281_.jpg', 'imdb_url': 'https://www.imdb.com/title/tt0118799/?pf_rd_m=A2FGELUUNOQJNL&pf_rd_p=1a264172-ae11-42e4-8ef7-7fed1973bb8f&pf_rd_r=XCNT5MRF80Z9EAR2JPCV&pf_rd_s=center-1&pf_rd_t=15506&pf_rd_i=top&ref_=chttp_tt_25'} {'_id': ObjectId('639c811401506d8c869bc5ed'), 'title': 'The Intouchables', 'title_original': 'Intouchables', 'score': 8.5, 'genre': ['Biography', 'Comedy', 'Drama'], 'date': '2011', 'duree': 112, 'description': 'After he becomes a quadriplegic from a paragliding accident, an aristocrat hires a young man from the projects to be his caregiver.', 'acteurs': ['François Cluzet', 'Omar Sy', 'Anne Le Ny', 'Audrey Fleurot', 'Joséphine de Meaux', 'Clotilde Mollet', 'Alba Gaïa Bellugi', 'Cyril Mendy', 'Salimata Kamate', 'Absa Diatou Toure', 'Grégoire Oestermann', 'Dominique Daguier', 'François Caron', 'Christian Ameri', 'Thomas Solivérès', 'Dorothée Brière', 'Marie-Laure Descoureaux', 'Émilie Caen'], 'public': 'R', 'pays': 'France', 'img_url': 'https://m.media-amazon.com/images/M/MV5BMTYxNDA3MDQwNl5BMl5BanBnXkFtZTcwNTU4Mzc1Nw@@._V1_QL75_UX190_CR0,0,190,281_.jpg', 'imdb_url': 'https://www.imdb.com/title/tt1675434/?pf_rd_m=A2FGELUUNOQJNL&pf_rd_p=1a264172-ae11-42e4-8ef7-7fed1973bb8f&pf_rd_r=XCNT5MRF80Z9EAR2JPCV&pf_rd_s=center-1&pf_rd_t=15506&pf_rd_i=top&ref_=chttp_tt_46'}\n"
     ]
    }
   ],
   "source": [
    "top_films_horreur = film.find({\"genre\": \"Horror\"}).sort(\"score\",-1).limit(3)\n",
    "print(*top_films_horreur)\n",
    "\n",
    "top_films_dram = film.find({\"genre\": \"Drama\"}).sort(\"score\",-1).limit(3)\n",
    "print(*top_films_dram)\n",
    "\n",
    "top_films_comic = film.find({\"genre\": \"Comedy\"}).sort(\"score\",-1).limit(3)\n",
    "print(*top_films_comic)"
   ]
  },
  {
   "attachments": {},
   "cell_type": "markdown",
   "metadata": {},
   "source": [
    "## Question n°5\n",
    "Parmi les 100 films les mieux notés, quel pourcentage sont américains ? Français ?"
   ]
  },
  {
   "cell_type": "code",
   "execution_count": 7,
   "metadata": {},
   "outputs": [
    {
     "data": {
      "text/plain": [
       "'Dans le Top 100 des films : US (62%) FR (6%)'"
      ]
     },
     "execution_count": 7,
     "metadata": {},
     "output_type": "execute_result"
    }
   ],
   "source": [
    "top_100 = list(film.find().sort(\"score\", -1).limit(100))\n",
    "france = len([f['score'] for f in top_100 if \"France\" in f['pays']])\n",
    "us = len([f for f in top_100 if \"United States\" in f['pays']])\n",
    "\n",
    "f\"Dans le Top 100 des films : US ({us}%) FR ({france}%)\""
   ]
  },
  {
   "attachments": {},
   "cell_type": "markdown",
   "metadata": {},
   "source": [
    "## Question n°6\n",
    "Quel est la durée moyenne d’un film en fonction du genre ?"
   ]
  },
  {
   "cell_type": "code",
   "execution_count": 8,
   "metadata": {},
   "outputs": [
    {
     "data": {
      "text/plain": [
       "\"La durée moyenne d'un film de Drama : 135.29mins\""
      ]
     },
     "execution_count": 8,
     "metadata": {},
     "output_type": "execute_result"
    }
   ],
   "source": [
    "my_genre = film.find({\"genre\" : \"Drama\"})\n",
    "total = 0\n",
    "nb_film = 0\n",
    "for f in my_genre:\n",
    "    if type(f['duree']) == int:\n",
    "        total += f['duree']\n",
    "        nb_film += 1\n",
    "\n",
    "moyenne = total / nb_film\n",
    "f\"La durée moyenne d'un film de Drama : {round(moyenne, 2)}mins\""
   ]
  }
 ],
 "metadata": {
  "kernelspec": {
   "display_name": "data-analyse-env",
   "language": "python",
   "name": "python3"
  },
  "language_info": {
   "codemirror_mode": {
    "name": "ipython",
    "version": 3
   },
   "file_extension": ".py",
   "mimetype": "text/x-python",
   "name": "python",
   "nbconvert_exporter": "python",
   "pygments_lexer": "ipython3",
   "version": "3.9.15 (main, Nov  4 2022, 11:11:31) \n[Clang 12.0.0 ]"
  },
  "orig_nbformat": 4,
  "vscode": {
   "interpreter": {
    "hash": "e040077903ef6eeaa5ac90c1254cd5abaaf5d30f296b3f264e1a83a3f6bea03d"
   }
  }
 },
 "nbformat": 4,
 "nbformat_minor": 2
}
